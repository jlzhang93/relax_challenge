{
  "nbformat": 4,
  "nbformat_minor": 0,
  "metadata": {
    "colab": {
      "name": "relax_challenge.ipynb",
      "provenance": [],
      "collapsed_sections": [],
      "authorship_tag": "ABX9TyPBJ2qoseYrgo6u0WLbpGaf",
      "include_colab_link": true
    },
    "kernelspec": {
      "name": "python3",
      "display_name": "Python 3"
    }
  },
  "cells": [
    {
      "cell_type": "markdown",
      "metadata": {
        "id": "view-in-github",
        "colab_type": "text"
      },
      "source": [
        "<a href=\"https://colab.research.google.com/github/jlzhang93/relax_challenge/blob/master/relax_challenge.ipynb\" target=\"_parent\"><img src=\"https://colab.research.google.com/assets/colab-badge.svg\" alt=\"Open In Colab\"/></a>"
      ]
    },
    {
      "cell_type": "code",
      "metadata": {
        "id": "JCvuexcFZF3J",
        "colab_type": "code",
        "colab": {}
      },
      "source": [
        "import pandas as pd\n",
        "import numpy as np"
      ],
      "execution_count": 0,
      "outputs": []
    },
    {
      "cell_type": "code",
      "metadata": {
        "id": "zGj_KSLWZFxu",
        "colab_type": "code",
        "colab": {}
      },
      "source": [
        "users = pd.read_csv('takehome_users.csv', encoding=\"ISO-8859-1\")"
      ],
      "execution_count": 0,
      "outputs": []
    },
    {
      "cell_type": "code",
      "metadata": {
        "id": "0XORZx87ZFsg",
        "colab_type": "code",
        "outputId": "b4918a64-e982-4d5d-f14b-4024a074849a",
        "colab": {
          "base_uri": "https://localhost:8080/",
          "height": 309
        }
      },
      "source": [
        "users.head()"
      ],
      "execution_count": 5,
      "outputs": [
        {
          "output_type": "execute_result",
          "data": {
            "text/html": [
              "<div>\n",
              "<style scoped>\n",
              "    .dataframe tbody tr th:only-of-type {\n",
              "        vertical-align: middle;\n",
              "    }\n",
              "\n",
              "    .dataframe tbody tr th {\n",
              "        vertical-align: top;\n",
              "    }\n",
              "\n",
              "    .dataframe thead th {\n",
              "        text-align: right;\n",
              "    }\n",
              "</style>\n",
              "<table border=\"1\" class=\"dataframe\">\n",
              "  <thead>\n",
              "    <tr style=\"text-align: right;\">\n",
              "      <th></th>\n",
              "      <th>object_id</th>\n",
              "      <th>creation_time</th>\n",
              "      <th>name</th>\n",
              "      <th>email</th>\n",
              "      <th>creation_source</th>\n",
              "      <th>last_session_creation_time</th>\n",
              "      <th>opted_in_to_mailing_list</th>\n",
              "      <th>enabled_for_marketing_drip</th>\n",
              "      <th>org_id</th>\n",
              "      <th>invited_by_user_id</th>\n",
              "    </tr>\n",
              "  </thead>\n",
              "  <tbody>\n",
              "    <tr>\n",
              "      <th>0</th>\n",
              "      <td>1</td>\n",
              "      <td>2014-04-22 03:53:30</td>\n",
              "      <td>Clausen August</td>\n",
              "      <td>AugustCClausen@yahoo.com</td>\n",
              "      <td>GUEST_INVITE</td>\n",
              "      <td>1.398139e+09</td>\n",
              "      <td>1</td>\n",
              "      <td>0</td>\n",
              "      <td>11</td>\n",
              "      <td>10803.0</td>\n",
              "    </tr>\n",
              "    <tr>\n",
              "      <th>1</th>\n",
              "      <td>2</td>\n",
              "      <td>2013-11-15 03:45:04</td>\n",
              "      <td>Poole Matthew</td>\n",
              "      <td>MatthewPoole@gustr.com</td>\n",
              "      <td>ORG_INVITE</td>\n",
              "      <td>1.396238e+09</td>\n",
              "      <td>0</td>\n",
              "      <td>0</td>\n",
              "      <td>1</td>\n",
              "      <td>316.0</td>\n",
              "    </tr>\n",
              "    <tr>\n",
              "      <th>2</th>\n",
              "      <td>3</td>\n",
              "      <td>2013-03-19 23:14:52</td>\n",
              "      <td>Bottrill Mitchell</td>\n",
              "      <td>MitchellBottrill@gustr.com</td>\n",
              "      <td>ORG_INVITE</td>\n",
              "      <td>1.363735e+09</td>\n",
              "      <td>0</td>\n",
              "      <td>0</td>\n",
              "      <td>94</td>\n",
              "      <td>1525.0</td>\n",
              "    </tr>\n",
              "    <tr>\n",
              "      <th>3</th>\n",
              "      <td>4</td>\n",
              "      <td>2013-05-21 08:09:28</td>\n",
              "      <td>Clausen Nicklas</td>\n",
              "      <td>NicklasSClausen@yahoo.com</td>\n",
              "      <td>GUEST_INVITE</td>\n",
              "      <td>1.369210e+09</td>\n",
              "      <td>0</td>\n",
              "      <td>0</td>\n",
              "      <td>1</td>\n",
              "      <td>5151.0</td>\n",
              "    </tr>\n",
              "    <tr>\n",
              "      <th>4</th>\n",
              "      <td>5</td>\n",
              "      <td>2013-01-17 10:14:20</td>\n",
              "      <td>Raw Grace</td>\n",
              "      <td>GraceRaw@yahoo.com</td>\n",
              "      <td>GUEST_INVITE</td>\n",
              "      <td>1.358850e+09</td>\n",
              "      <td>0</td>\n",
              "      <td>0</td>\n",
              "      <td>193</td>\n",
              "      <td>5240.0</td>\n",
              "    </tr>\n",
              "  </tbody>\n",
              "</table>\n",
              "</div>"
            ],
            "text/plain": [
              "   object_id        creation_time  ... org_id invited_by_user_id\n",
              "0          1  2014-04-22 03:53:30  ...     11            10803.0\n",
              "1          2  2013-11-15 03:45:04  ...      1              316.0\n",
              "2          3  2013-03-19 23:14:52  ...     94             1525.0\n",
              "3          4  2013-05-21 08:09:28  ...      1             5151.0\n",
              "4          5  2013-01-17 10:14:20  ...    193             5240.0\n",
              "\n",
              "[5 rows x 10 columns]"
            ]
          },
          "metadata": {
            "tags": []
          },
          "execution_count": 5
        }
      ]
    },
    {
      "cell_type": "code",
      "metadata": {
        "id": "3lJgS5NQGXq_",
        "colab_type": "code",
        "outputId": "6bcc5596-7bf3-4c0f-81ea-93add29f1ec4",
        "colab": {
          "base_uri": "https://localhost:8080/",
          "height": 312
        }
      },
      "source": [
        "users.info()"
      ],
      "execution_count": 6,
      "outputs": [
        {
          "output_type": "stream",
          "text": [
            "<class 'pandas.core.frame.DataFrame'>\n",
            "RangeIndex: 12000 entries, 0 to 11999\n",
            "Data columns (total 10 columns):\n",
            " #   Column                      Non-Null Count  Dtype  \n",
            "---  ------                      --------------  -----  \n",
            " 0   object_id                   12000 non-null  int64  \n",
            " 1   creation_time               12000 non-null  object \n",
            " 2   name                        12000 non-null  object \n",
            " 3   email                       12000 non-null  object \n",
            " 4   creation_source             12000 non-null  object \n",
            " 5   last_session_creation_time  8823 non-null   float64\n",
            " 6   opted_in_to_mailing_list    12000 non-null  int64  \n",
            " 7   enabled_for_marketing_drip  12000 non-null  int64  \n",
            " 8   org_id                      12000 non-null  int64  \n",
            " 9   invited_by_user_id          6417 non-null   float64\n",
            "dtypes: float64(2), int64(4), object(4)\n",
            "memory usage: 937.6+ KB\n"
          ],
          "name": "stdout"
        }
      ]
    },
    {
      "cell_type": "markdown",
      "metadata": {
        "id": "lrLarsHBX5Bw",
        "colab_type": "text"
      },
      "source": [
        "Missing values need to be filled for this csv. The missing values in `last_session_creation_time` are filled with the `creation_time`."
      ]
    },
    {
      "cell_type": "code",
      "metadata": {
        "id": "y-TBnaZdb1tF",
        "colab_type": "code",
        "colab": {}
      },
      "source": [
        "users['email'] = users.email.str.split('@').str[1].str.split('.').str[0].astype(\n",
        "    'category')"
      ],
      "execution_count": 0,
      "outputs": []
    },
    {
      "cell_type": "markdown",
      "metadata": {
        "id": "mo1bYOkbca8F",
        "colab_type": "text"
      },
      "source": [
        "Email domain is truncated as a feature."
      ]
    },
    {
      "cell_type": "code",
      "metadata": {
        "id": "o5_tAJqaJh4J",
        "colab_type": "code",
        "colab": {}
      },
      "source": [
        "users['creation_time'] = pd.to_datetime(users['creation_time'])\n",
        "users['creation_source'] = users['creation_source'].astype('category')\n",
        "users['opted_in_to_mailing_list'] = users['opted_in_to_mailing_list'\n",
        "                                          ].astype('bool')\n",
        "users['enabled_for_marketing_drip'] = users['enabled_for_marketing_drip'\n",
        "                                          ].astype('bool')\n",
        "users['invited_by_user_id'] = users['invited_by_user_id'].fillna(99999).astype(\n",
        "    'int')\n",
        "users = users.set_index('object_id')"
      ],
      "execution_count": 0,
      "outputs": []
    },
    {
      "cell_type": "markdown",
      "metadata": {
        "id": "6c0RqPe69z4m",
        "colab_type": "text"
      },
      "source": [
        "Features are adjusted to the appropriate data types. The missing values of `invited_by_user_id` are filled with 99999."
      ]
    },
    {
      "cell_type": "code",
      "metadata": {
        "id": "EMmc2J7yLon8",
        "colab_type": "code",
        "colab": {}
      },
      "source": [
        "from datetime import datetime\n",
        "filler = (users['creation_time'] - datetime(1970, 1, 1, 0, 0, 0)).dt.total_seconds()\n",
        "users['last_session_creation_time'] = users['last_session_creation_time'].fillna(\n",
        "   filler)\n",
        "users['last_session_creation_time'] = pd.to_datetime(users[\n",
        "                                    'last_session_creation_time'], unit='s')"
      ],
      "execution_count": 0,
      "outputs": []
    },
    {
      "cell_type": "markdown",
      "metadata": {
        "id": "bLlt0C-zYMCz",
        "colab_type": "text"
      },
      "source": [
        "Values from `creation_time` are converted to unix timestamp first and are then used to fill the `NaN`s of `last_session_creation_time`. After that, the unix timestamps in `last_session_creation_time` are converted to datetime type."
      ]
    },
    {
      "cell_type": "code",
      "metadata": {
        "id": "7rPZdxuxGbVc",
        "colab_type": "code",
        "outputId": "e91ebf0e-b3d8-45b2-c7cf-19d86e2cf3a8",
        "colab": {
          "base_uri": "https://localhost:8080/",
          "height": 202
        }
      },
      "source": [
        "engagement = pd.read_csv('takehome_user_engagement.csv', encoding=\"ISO-8859-1\",\n",
        "                         parse_dates=['time_stamp'])\n",
        "engagement.head()"
      ],
      "execution_count": 10,
      "outputs": [
        {
          "output_type": "execute_result",
          "data": {
            "text/html": [
              "<div>\n",
              "<style scoped>\n",
              "    .dataframe tbody tr th:only-of-type {\n",
              "        vertical-align: middle;\n",
              "    }\n",
              "\n",
              "    .dataframe tbody tr th {\n",
              "        vertical-align: top;\n",
              "    }\n",
              "\n",
              "    .dataframe thead th {\n",
              "        text-align: right;\n",
              "    }\n",
              "</style>\n",
              "<table border=\"1\" class=\"dataframe\">\n",
              "  <thead>\n",
              "    <tr style=\"text-align: right;\">\n",
              "      <th></th>\n",
              "      <th>time_stamp</th>\n",
              "      <th>user_id</th>\n",
              "      <th>visited</th>\n",
              "    </tr>\n",
              "  </thead>\n",
              "  <tbody>\n",
              "    <tr>\n",
              "      <th>0</th>\n",
              "      <td>2014-04-22 03:53:30</td>\n",
              "      <td>1</td>\n",
              "      <td>1</td>\n",
              "    </tr>\n",
              "    <tr>\n",
              "      <th>1</th>\n",
              "      <td>2013-11-15 03:45:04</td>\n",
              "      <td>2</td>\n",
              "      <td>1</td>\n",
              "    </tr>\n",
              "    <tr>\n",
              "      <th>2</th>\n",
              "      <td>2013-11-29 03:45:04</td>\n",
              "      <td>2</td>\n",
              "      <td>1</td>\n",
              "    </tr>\n",
              "    <tr>\n",
              "      <th>3</th>\n",
              "      <td>2013-12-09 03:45:04</td>\n",
              "      <td>2</td>\n",
              "      <td>1</td>\n",
              "    </tr>\n",
              "    <tr>\n",
              "      <th>4</th>\n",
              "      <td>2013-12-25 03:45:04</td>\n",
              "      <td>2</td>\n",
              "      <td>1</td>\n",
              "    </tr>\n",
              "  </tbody>\n",
              "</table>\n",
              "</div>"
            ],
            "text/plain": [
              "           time_stamp  user_id  visited\n",
              "0 2014-04-22 03:53:30        1        1\n",
              "1 2013-11-15 03:45:04        2        1\n",
              "2 2013-11-29 03:45:04        2        1\n",
              "3 2013-12-09 03:45:04        2        1\n",
              "4 2013-12-25 03:45:04        2        1"
            ]
          },
          "metadata": {
            "tags": []
          },
          "execution_count": 10
        }
      ]
    },
    {
      "cell_type": "code",
      "metadata": {
        "id": "a0tYyLA4Gdqt",
        "colab_type": "code",
        "outputId": "5859dd69-21cb-4b12-f2af-153175656bc4",
        "colab": {
          "base_uri": "https://localhost:8080/",
          "height": 52
        }
      },
      "source": [
        "engagement['time_stamp'] = engagement['time_stamp'].dt.date\n",
        "s = engagement.groupby(['user_id', 'time_stamp']).visited.count()\n",
        "s.value_counts()"
      ],
      "execution_count": 11,
      "outputs": [
        {
          "output_type": "execute_result",
          "data": {
            "text/plain": [
              "1    207917\n",
              "Name: visited, dtype: int64"
            ]
          },
          "metadata": {
            "tags": []
          },
          "execution_count": 11
        }
      ]
    },
    {
      "cell_type": "markdown",
      "metadata": {
        "id": "fZKc8B2FX1x0",
        "colab_type": "text"
      },
      "source": [
        "This shows that any user logs into the product at most once per day."
      ]
    },
    {
      "cell_type": "code",
      "metadata": {
        "id": "GGLYN6C7Z4jm",
        "colab_type": "code",
        "colab": {}
      },
      "source": [
        "engagement['time_stamp'] = pd.to_datetime(engagement.time_stamp)\n",
        "\n",
        "sorted = engagement.set_index('time_stamp').groupby(\n",
        "    'user_id').resample('7d').visited.count()\n",
        "\n",
        "adopted_id = sorted[sorted >= 3].index.get_level_values(0).unique()"
      ],
      "execution_count": 0,
      "outputs": []
    },
    {
      "cell_type": "markdown",
      "metadata": {
        "id": "lteB8fls-nNS",
        "colab_type": "text"
      },
      "source": [
        "`Adopted_id` includes ids of all users  that have logged into the product on three separate days in at least 7-day period "
      ]
    },
    {
      "cell_type": "code",
      "metadata": {
        "id": "1cVULrWNbO35",
        "colab_type": "code",
        "colab": {}
      },
      "source": [
        "for row in users.itertuples():\n",
        "    if row.Index in adopted_id:\n",
        "        users.loc[row.Index, 'adopted'] = True\n",
        "    else:\n",
        "        users.loc[row.Index, 'adopted'] = False"
      ],
      "execution_count": 0,
      "outputs": []
    },
    {
      "cell_type": "markdown",
      "metadata": {
        "id": "sC9efVwU-8v2",
        "colab_type": "text"
      },
      "source": [
        "The target is added as `adopted`. If the id of a user is in `adopted_id`, then `adopted` is marked as `True` (1), or it is marked as `False` (0). "
      ]
    },
    {
      "cell_type": "code",
      "metadata": {
        "id": "IJ_VvpRkcohZ",
        "colab_type": "code",
        "colab": {}
      },
      "source": [
        "users['duration'] = (users['last_session_creation_time'] - \n",
        "                     users['creation_time']).dt.days\n",
        "users.drop(['creation_time', 'last_session_creation_time'], axis=1, inplace=True)\n",
        "users = users.reset_index()"
      ],
      "execution_count": 0,
      "outputs": []
    },
    {
      "cell_type": "markdown",
      "metadata": {
        "id": "44BITrs8_Yc-",
        "colab_type": "text"
      },
      "source": [
        "The time between signup date and the last login date is saved as a new feature `duration`"
      ]
    },
    {
      "cell_type": "code",
      "metadata": {
        "id": "E2IdcO-47D5w",
        "colab_type": "code",
        "colab": {
          "base_uri": "https://localhost:8080/",
          "height": 312
        },
        "outputId": "40d43d77-2748-439c-a023-82cce65b5ca1"
      },
      "source": [
        "users.info()"
      ],
      "execution_count": 15,
      "outputs": [
        {
          "output_type": "stream",
          "text": [
            "<class 'pandas.core.frame.DataFrame'>\n",
            "RangeIndex: 12000 entries, 0 to 11999\n",
            "Data columns (total 10 columns):\n",
            " #   Column                      Non-Null Count  Dtype   \n",
            "---  ------                      --------------  -----   \n",
            " 0   object_id                   12000 non-null  int64   \n",
            " 1   name                        12000 non-null  object  \n",
            " 2   email                       12000 non-null  category\n",
            " 3   creation_source             12000 non-null  category\n",
            " 4   opted_in_to_mailing_list    12000 non-null  bool    \n",
            " 5   enabled_for_marketing_drip  12000 non-null  bool    \n",
            " 6   org_id                      12000 non-null  int64   \n",
            " 7   invited_by_user_id          12000 non-null  int64   \n",
            " 8   adopted                     12000 non-null  object  \n",
            " 9   duration                    12000 non-null  int64   \n",
            "dtypes: bool(2), category(2), int64(4), object(2)\n",
            "memory usage: 670.7+ KB\n"
          ],
          "name": "stdout"
        }
      ]
    },
    {
      "cell_type": "markdown",
      "metadata": {
        "id": "Rz7aeXXAAECY",
        "colab_type": "text"
      },
      "source": [
        "Now all missing values are filled in."
      ]
    },
    {
      "cell_type": "code",
      "metadata": {
        "id": "0FcsH0Cj6W3c",
        "colab_type": "code",
        "colab": {}
      },
      "source": [
        "users.drop(['name', 'object_id'], axis=1, inplace=True)\n",
        "users['org_id'] = users['org_id'].astype('category')\n",
        "users['invited_by_user_id'] = users['invited_by_user_id'].astype('category')"
      ],
      "execution_count": 0,
      "outputs": []
    },
    {
      "cell_type": "code",
      "metadata": {
        "id": "pLLi5dSq73Q5",
        "colab_type": "code",
        "colab": {}
      },
      "source": [
        "users['if_invited'] = users['invited_by_user_id'] == 99999"
      ],
      "execution_count": 0,
      "outputs": []
    },
    {
      "cell_type": "markdown",
      "metadata": {
        "id": "i7lxcIfLAPZ2",
        "colab_type": "text"
      },
      "source": [
        "Another feature `if_invited` is added and is marked as `True` if a user is invited by another user."
      ]
    },
    {
      "cell_type": "code",
      "metadata": {
        "id": "cuR1pC3TfzWy",
        "colab_type": "code",
        "colab": {}
      },
      "source": [
        "y = users['adopted'].astype(int)\n",
        "X = users.drop(['adopted'], axis=1)"
      ],
      "execution_count": 0,
      "outputs": []
    },
    {
      "cell_type": "code",
      "metadata": {
        "id": "YOc5y5OYgNKd",
        "colab_type": "code",
        "colab": {}
      },
      "source": [
        "from sklearn.model_selection import train_test_split\n",
        "from sklearn.metrics import accuracy_score, f1_score, roc_auc_score\n",
        "import lightgbm as lgb"
      ],
      "execution_count": 0,
      "outputs": []
    },
    {
      "cell_type": "code",
      "metadata": {
        "id": "DTFstyBGh2rE",
        "colab_type": "code",
        "colab": {}
      },
      "source": [
        "Xtrain, Xtest, ytrain, ytest = train_test_split(X, y, test_size = 0.25,\n",
        "                                                random_state=7)"
      ],
      "execution_count": 0,
      "outputs": []
    },
    {
      "cell_type": "code",
      "metadata": {
        "id": "N83l03McgdUB",
        "colab_type": "code",
        "colab": {
          "base_uri": "https://localhost:8080/",
          "height": 121
        },
        "outputId": "167061a4-4db0-4c5c-bddc-1187889a54d3"
      },
      "source": [
        "cl = lgb.LGBMClassifier()\n",
        "cl.fit(Xtrain, ytrain)"
      ],
      "execution_count": 21,
      "outputs": [
        {
          "output_type": "execute_result",
          "data": {
            "text/plain": [
              "LGBMClassifier(boosting_type='gbdt', class_weight=None, colsample_bytree=1.0,\n",
              "               importance_type='split', learning_rate=0.1, max_depth=-1,\n",
              "               min_child_samples=20, min_child_weight=0.001, min_split_gain=0.0,\n",
              "               n_estimators=100, n_jobs=-1, num_leaves=31, objective=None,\n",
              "               random_state=None, reg_alpha=0.0, reg_lambda=0.0, silent=True,\n",
              "               subsample=1.0, subsample_for_bin=200000, subsample_freq=0)"
            ]
          },
          "metadata": {
            "tags": []
          },
          "execution_count": 21
        }
      ]
    },
    {
      "cell_type": "markdown",
      "metadata": {
        "id": "n4huUVfoAr-y",
        "colab_type": "text"
      },
      "source": [
        "A light gradient boost machine classifier is used here."
      ]
    },
    {
      "cell_type": "code",
      "metadata": {
        "id": "ZX-iozPqiDZn",
        "colab_type": "code",
        "colab": {}
      },
      "source": [
        "ypred = cl.predict(Xtest)"
      ],
      "execution_count": 0,
      "outputs": []
    },
    {
      "cell_type": "code",
      "metadata": {
        "id": "0BjTGV4RiXIt",
        "colab_type": "code",
        "colab": {
          "base_uri": "https://localhost:8080/",
          "height": 69
        },
        "outputId": "8a65ddfa-4b53-49c3-bea9-3f84f7857379"
      },
      "source": [
        "print('The accuracy score is {}.'.format(accuracy_score(ypred, ytest)))\n",
        "print('The F1 score is {}.'.format(f1_score(ypred, ytest)))\n",
        "print('The ROC AUC score is {}.'.format(roc_auc_score(ypred, ytest)))"
      ],
      "execution_count": 23,
      "outputs": [
        {
          "output_type": "stream",
          "text": [
            "The accuracy score is 0.9726666666666667.\n",
            "The F1 score is 0.8831908831908831.\n",
            "The ROC AUC score is 0.9484371318446334.\n"
          ],
          "name": "stdout"
        }
      ]
    },
    {
      "cell_type": "code",
      "metadata": {
        "id": "TLpZh2-cjIfh",
        "colab_type": "code",
        "colab": {}
      },
      "source": [
        "importance = pd.DataFrame(cl.feature_importances_, index=X.columns, \n",
        "             columns=['feature_importance']).sort_values('feature_importance')"
      ],
      "execution_count": 0,
      "outputs": []
    },
    {
      "cell_type": "code",
      "metadata": {
        "id": "hrYFmH6pjWIr",
        "colab_type": "code",
        "colab": {
          "base_uri": "https://localhost:8080/",
          "height": 375
        },
        "outputId": "c67e1281-d2f6-4f25-d540-d5008a1dccac"
      },
      "source": [
        "from matplotlib import pyplot as plt\n",
        "plt.figure(figsize=(20, 6))\n",
        "plt.bar(importance.index, importance.feature_importance)\n",
        "plt.ylabel('feature importance')\n",
        "plt.show()"
      ],
      "execution_count": 37,
      "outputs": [
        {
          "output_type": "display_data",
          "data": {
            "image/png": "[encoded data removed]",
            "text/plain": [
              "<Figure size 1440x432 with 1 Axes>"
            ]
          },
          "metadata": {
            "tags": [],
            "needs_background": "light"
          }
        }
      ]
    },
    {
      "cell_type": "markdown",
      "metadata": {
        "id": "5EZAyqKVkNJl",
        "colab_type": "text"
      },
      "source": [
        "The longer a user stays with the product (longer duration), the more likely that this user is an adopted user. And if users are invited by other users, they are more likely to be adopted users."
      ]
    }
  ]
}