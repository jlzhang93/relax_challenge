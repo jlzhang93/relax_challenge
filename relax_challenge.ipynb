{
  "nbformat": 4,
  "nbformat_minor": 0,
  "metadata": {
    "colab": {
      "name": "relax_challenge.ipynb",
      "provenance": [],
      "collapsed_sections": [],
      "authorship_tag": "ABX9TyOvJFSbi+CzagOA40rbPepa",
      "include_colab_link": true
    },
    "kernelspec": {
      "name": "python3",
      "display_name": "Python 3"
    }
  },
  "cells": [
    {
      "cell_type": "markdown",
      "metadata": {
        "id": "view-in-github",
        "colab_type": "text"
      },
      "source": [
        "<a href=\"https://colab.research.google.com/github/jlzhang93/relax_challenge/blob/master/relax_challenge.ipynb\" target=\"_parent\"><img src=\"https://colab.research.google.com/assets/colab-badge.svg\" alt=\"Open In Colab\"/></a>"
      ]
    },
    {
      "cell_type": "code",
      "metadata": {
        "id": "H_wi8WLl9vIE",
        "colab_type": "code",
        "outputId": "22702149-7adf-4eb8-fb99-241b6927dfef",
        "colab": {
          "base_uri": "https://localhost:8080/",
          "height": 124
        }
      },
      "source": [
        "from google.colab import drive\n",
        "drive.mount('/content/drive')"
      ],
      "execution_count": 1,
      "outputs": [
        {
          "output_type": "stream",
          "text": [
            "Go to this URL in a browser: https://accounts.google.com/o/oauth2/auth?client_id=947318989803-6bn6qk8qdgf4n4g3pfee6491hc0brc4i.apps.googleusercontent.com&redirect_uri=urn%3aietf%3awg%3aoauth%3a2.0%3aoob&response_type=code&scope=email%20https%3a%2f%2fwww.googleapis.com%2fauth%2fdocs.test%20https%3a%2f%2fwww.googleapis.com%2fauth%2fdrive%20https%3a%2f%2fwww.googleapis.com%2fauth%2fdrive.photos.readonly%20https%3a%2f%2fwww.googleapis.com%2fauth%2fpeopleapi.readonly\n",
            "\n",
            "Enter your authorization code:\n",
            "··········\n",
            "Mounted at /content/drive\n"
          ],
          "name": "stdout"
        }
      ]
    },
    {
      "cell_type": "code",
      "metadata": {
        "id": "I6OzRPZi99R0",
        "colab_type": "code",
        "outputId": "872631d9-b8f8-45f4-f19e-82a3bcdcf03b",
        "colab": {
          "base_uri": "https://localhost:8080/",
          "height": 35
        }
      },
      "source": [
        "%cd drive/My\\ Drive/Data\\ Science\\ Practice"
      ],
      "execution_count": 2,
      "outputs": [
        {
          "output_type": "stream",
          "text": [
            "/content/drive/My Drive/Data Science Practice\n"
          ],
          "name": "stdout"
        }
      ]
    },
    {
      "cell_type": "code",
      "metadata": {
        "id": "JCvuexcFZF3J",
        "colab_type": "code",
        "colab": {}
      },
      "source": [
        "import pandas as pd\n",
        "import numpy as np\n",
        "from datetime import datetime\n",
        "from matplotlib import pyplot as plt"
      ],
      "execution_count": 0,
      "outputs": []
    },
    {
      "cell_type": "code",
      "metadata": {
        "id": "zGj_KSLWZFxu",
        "colab_type": "code",
        "colab": {}
      },
      "source": [
        "users = pd.read_csv('takehome_users.csv', encoding=\"ISO-8859-1\")"
      ],
      "execution_count": 0,
      "outputs": []
    },
    {
      "cell_type": "code",
      "metadata": {
        "id": "0XORZx87ZFsg",
        "colab_type": "code",
        "outputId": "fa6a629d-2dfc-4d75-81a0-6d0398a4d7bb",
        "colab": {
          "base_uri": "https://localhost:8080/",
          "height": 309
        }
      },
      "source": [
        "users.head()"
      ],
      "execution_count": 5,
      "outputs": [
        {
          "output_type": "execute_result",
          "data": {
            "text/html": [
              "<div>\n",
              "<style scoped>\n",
              "    .dataframe tbody tr th:only-of-type {\n",
              "        vertical-align: middle;\n",
              "    }\n",
              "\n",
              "    .dataframe tbody tr th {\n",
              "        vertical-align: top;\n",
              "    }\n",
              "\n",
              "    .dataframe thead th {\n",
              "        text-align: right;\n",
              "    }\n",
              "</style>\n",
              "<table border=\"1\" class=\"dataframe\">\n",
              "  <thead>\n",
              "    <tr style=\"text-align: right;\">\n",
              "      <th></th>\n",
              "      <th>object_id</th>\n",
              "      <th>creation_time</th>\n",
              "      <th>name</th>\n",
              "      <th>email</th>\n",
              "      <th>creation_source</th>\n",
              "      <th>last_session_creation_time</th>\n",
              "      <th>opted_in_to_mailing_list</th>\n",
              "      <th>enabled_for_marketing_drip</th>\n",
              "      <th>org_id</th>\n",
              "      <th>invited_by_user_id</th>\n",
              "    </tr>\n",
              "  </thead>\n",
              "  <tbody>\n",
              "    <tr>\n",
              "      <th>0</th>\n",
              "      <td>1</td>\n",
              "      <td>2014-04-22 03:53:30</td>\n",
              "      <td>Clausen August</td>\n",
              "      <td>AugustCClausen@yahoo.com</td>\n",
              "      <td>GUEST_INVITE</td>\n",
              "      <td>1.398139e+09</td>\n",
              "      <td>1</td>\n",
              "      <td>0</td>\n",
              "      <td>11</td>\n",
              "      <td>10803.0</td>\n",
              "    </tr>\n",
              "    <tr>\n",
              "      <th>1</th>\n",
              "      <td>2</td>\n",
              "      <td>2013-11-15 03:45:04</td>\n",
              "      <td>Poole Matthew</td>\n",
              "      <td>MatthewPoole@gustr.com</td>\n",
              "      <td>ORG_INVITE</td>\n",
              "      <td>1.396238e+09</td>\n",
              "      <td>0</td>\n",
              "      <td>0</td>\n",
              "      <td>1</td>\n",
              "      <td>316.0</td>\n",
              "    </tr>\n",
              "    <tr>\n",
              "      <th>2</th>\n",
              "      <td>3</td>\n",
              "      <td>2013-03-19 23:14:52</td>\n",
              "      <td>Bottrill Mitchell</td>\n",
              "      <td>MitchellBottrill@gustr.com</td>\n",
              "      <td>ORG_INVITE</td>\n",
              "      <td>1.363735e+09</td>\n",
              "      <td>0</td>\n",
              "      <td>0</td>\n",
              "      <td>94</td>\n",
              "      <td>1525.0</td>\n",
              "    </tr>\n",
              "    <tr>\n",
              "      <th>3</th>\n",
              "      <td>4</td>\n",
              "      <td>2013-05-21 08:09:28</td>\n",
              "      <td>Clausen Nicklas</td>\n",
              "      <td>NicklasSClausen@yahoo.com</td>\n",
              "      <td>GUEST_INVITE</td>\n",
              "      <td>1.369210e+09</td>\n",
              "      <td>0</td>\n",
              "      <td>0</td>\n",
              "      <td>1</td>\n",
              "      <td>5151.0</td>\n",
              "    </tr>\n",
              "    <tr>\n",
              "      <th>4</th>\n",
              "      <td>5</td>\n",
              "      <td>2013-01-17 10:14:20</td>\n",
              "      <td>Raw Grace</td>\n",
              "      <td>GraceRaw@yahoo.com</td>\n",
              "      <td>GUEST_INVITE</td>\n",
              "      <td>1.358850e+09</td>\n",
              "      <td>0</td>\n",
              "      <td>0</td>\n",
              "      <td>193</td>\n",
              "      <td>5240.0</td>\n",
              "    </tr>\n",
              "  </tbody>\n",
              "</table>\n",
              "</div>"
            ],
            "text/plain": [
              "   object_id        creation_time  ... org_id invited_by_user_id\n",
              "0          1  2014-04-22 03:53:30  ...     11            10803.0\n",
              "1          2  2013-11-15 03:45:04  ...      1              316.0\n",
              "2          3  2013-03-19 23:14:52  ...     94             1525.0\n",
              "3          4  2013-05-21 08:09:28  ...      1             5151.0\n",
              "4          5  2013-01-17 10:14:20  ...    193             5240.0\n",
              "\n",
              "[5 rows x 10 columns]"
            ]
          },
          "metadata": {
            "tags": []
          },
          "execution_count": 5
        }
      ]
    },
    {
      "cell_type": "code",
      "metadata": {
        "id": "3lJgS5NQGXq_",
        "colab_type": "code",
        "outputId": "896e281e-ceeb-4c8e-9a3d-999a471e9b96",
        "colab": {
          "base_uri": "https://localhost:8080/",
          "height": 312
        }
      },
      "source": [
        "users.info()"
      ],
      "execution_count": 6,
      "outputs": [
        {
          "output_type": "stream",
          "text": [
            "<class 'pandas.core.frame.DataFrame'>\n",
            "RangeIndex: 12000 entries, 0 to 11999\n",
            "Data columns (total 10 columns):\n",
            " #   Column                      Non-Null Count  Dtype  \n",
            "---  ------                      --------------  -----  \n",
            " 0   object_id                   12000 non-null  int64  \n",
            " 1   creation_time               12000 non-null  object \n",
            " 2   name                        12000 non-null  object \n",
            " 3   email                       12000 non-null  object \n",
            " 4   creation_source             12000 non-null  object \n",
            " 5   last_session_creation_time  8823 non-null   float64\n",
            " 6   opted_in_to_mailing_list    12000 non-null  int64  \n",
            " 7   enabled_for_marketing_drip  12000 non-null  int64  \n",
            " 8   org_id                      12000 non-null  int64  \n",
            " 9   invited_by_user_id          6417 non-null   float64\n",
            "dtypes: float64(2), int64(4), object(4)\n",
            "memory usage: 937.6+ KB\n"
          ],
          "name": "stdout"
        }
      ]
    },
    {
      "cell_type": "code",
      "metadata": {
        "id": "Jz6UfUl8Fn67",
        "colab_type": "code",
        "colab": {
          "base_uri": "https://localhost:8080/",
          "height": 313
        },
        "outputId": "f369e29e-114b-4be2-fc0a-e386b8c04216"
      },
      "source": [
        "plt.hist(users.org_id)\n",
        "plt.xlabel('Organization_id')\n",
        "plt.ylabel('Number of users')\n",
        "plt.title('Number of users belong to certain organization')"
      ],
      "execution_count": 7,
      "outputs": [
        {
          "output_type": "execute_result",
          "data": {
            "text/plain": [
              "Text(0.5, 1.0, 'Number of users belong to certain organization')"
            ]
          },
          "metadata": {
            "tags": []
          },
          "execution_count": 7
        },
        {
          "output_type": "display_data",
          "data": {
            "image/png": "[encoded data removed]",
            "text/plain": [
              "<Figure size 432x288 with 1 Axes>"
            ]
          },
          "metadata": {
            "tags": [],
            "needs_background": "light"
          }
        }
      ]
    },
    {
      "cell_type": "code",
      "metadata": {
        "id": "eQWx7YqiGSyo",
        "colab_type": "code",
        "colab": {
          "base_uri": "https://localhost:8080/",
          "height": 225
        },
        "outputId": "b0ec1520-0562-4a81-c148-642f1cd49b26"
      },
      "source": [
        "users.org_id.value_counts()"
      ],
      "execution_count": 8,
      "outputs": [
        {
          "output_type": "execute_result",
          "data": {
            "text/plain": [
              "0      319\n",
              "1      233\n",
              "2      201\n",
              "3      168\n",
              "4      159\n",
              "      ... \n",
              "396      9\n",
              "400      8\n",
              "397      8\n",
              "386      7\n",
              "416      2\n",
              "Name: org_id, Length: 417, dtype: int64"
            ]
          },
          "metadata": {
            "tags": []
          },
          "execution_count": 8
        }
      ]
    },
    {
      "cell_type": "markdown",
      "metadata": {
        "id": "OG6gxFbRGWcv",
        "colab_type": "text"
      },
      "source": [
        "There are 417 organization for all users. The organization with most users is No. 0 with 319 users."
      ]
    },
    {
      "cell_type": "code",
      "metadata": {
        "id": "4UlNIX5tGoNF",
        "colab_type": "code",
        "colab": {
          "base_uri": "https://localhost:8080/",
          "height": 390
        },
        "outputId": "4b045974-a343-4017-bd3e-e825166cf5fe"
      },
      "source": [
        "plt.figure(figsize=(12, 6))\n",
        "plt.hist(users.creation_source)\n",
        "plt.xlabel('creation source')\n",
        "plt.ylabel('number of users')\n",
        "plt.title('Distribution of users per creation source')"
      ],
      "execution_count": 9,
      "outputs": [
        {
          "output_type": "execute_result",
          "data": {
            "text/plain": [
              "Text(0.5, 1.0, 'Distribution of users per creation source')"
            ]
          },
          "metadata": {
            "tags": []
          },
          "execution_count": 9
        },
        {
          "output_type": "display_data",
          "data": {
            "image/png": "[encoded data removed]",
            "text/plain": [
              "<Figure size 864x432 with 1 Axes>"
            ]
          },
          "metadata": {
            "tags": [],
            "needs_background": "light"
          }
        }
      ]
    },
    {
      "cell_type": "markdown",
      "metadata": {
        "id": "K6P90xBUG_W2",
        "colab_type": "text"
      },
      "source": [
        "There are 5 kinds of users with regard to creation sources. The most popular creation source is org_invite and the least common is signup_google_auth."
      ]
    },
    {
      "cell_type": "code",
      "metadata": {
        "id": "y-TBnaZdb1tF",
        "colab_type": "code",
        "colab": {}
      },
      "source": [
        "users['email'] = users.email.str.split('@').str[1].str.split('.').str[0].astype(\n",
        "    'category')"
      ],
      "execution_count": 0,
      "outputs": []
    },
    {
      "cell_type": "markdown",
      "metadata": {
        "id": "rWzE9q1NHZ2S",
        "colab_type": "text"
      },
      "source": [
        "`email` feature is replaced by the email domain."
      ]
    },
    {
      "cell_type": "code",
      "metadata": {
        "id": "4LFo5EhbG-pJ",
        "colab_type": "code",
        "colab": {
          "base_uri": "https://localhost:8080/",
          "height": 225
        },
        "outputId": "fe7a6408-cacf-444d-d873-d0e666e546b3"
      },
      "source": [
        "users.email.value_counts()"
      ],
      "execution_count": 11,
      "outputs": [
        {
          "output_type": "execute_result",
          "data": {
            "text/plain": [
              "gmail         3562\n",
              "yahoo         2447\n",
              "jourrapide    1259\n",
              "cuvox         1202\n",
              "gustr         1179\n",
              "              ... \n",
              "rmlsj            1\n",
              "rnlqw            1\n",
              "rnoef            1\n",
              "rosyq            1\n",
              "abdnf            1\n",
              "Name: email, Length: 1184, dtype: int64"
            ]
          },
          "metadata": {
            "tags": []
          },
          "execution_count": 11
        }
      ]
    },
    {
      "cell_type": "markdown",
      "metadata": {
        "id": "5QTjVH6FHpyn",
        "colab_type": "text"
      },
      "source": [
        "There are 1184 kinds of email domain and the most common kind is from gmail.com, followed by yahoo.com."
      ]
    },
    {
      "cell_type": "code",
      "metadata": {
        "id": "gPTkFkDHH3oq",
        "colab_type": "code",
        "colab": {}
      },
      "source": [
        "users['creation_time'] = pd.to_datetime(users.creation_time)\n",
        "users['creation_year'] = users.creation_time.dt.year\n",
        "users['creation_month'] = users.creation_time.dt.month\n",
        "users['creation_day'] = users.creation_time.dt.day\n",
        "users['creation_hour'] = users.creation_time.dt.hour"
      ],
      "execution_count": 0,
      "outputs": []
    },
    {
      "cell_type": "markdown",
      "metadata": {
        "id": "vT2H74NeIWdN",
        "colab_type": "text"
      },
      "source": [
        "Features are generated according to what year/month/day/hour of the account is generated."
      ]
    },
    {
      "cell_type": "code",
      "metadata": {
        "id": "2DAjwhCEIC85",
        "colab_type": "code",
        "colab": {
          "base_uri": "https://localhost:8080/",
          "height": 35
        },
        "outputId": "f291995c-b55f-449e-b9ec-0c37d96d263f"
      },
      "source": [
        "print('There are {} usere out of 12000 that are on the regular marketing \\\n",
        "drip'.format(users.enabled_for_marketing_drip.sum()))"
      ],
      "execution_count": 14,
      "outputs": [
        {
          "output_type": "stream",
          "text": [
            "There are 1792 usere out of 12000 that are on the regular marketing drip\n"
          ],
          "name": "stdout"
        }
      ]
    },
    {
      "cell_type": "code",
      "metadata": {
        "id": "io3jUdDEI5lc",
        "colab_type": "code",
        "colab": {
          "base_uri": "https://localhost:8080/",
          "height": 35
        },
        "outputId": "353738fd-5982-4b8c-d908-f7ae1bcba526"
      },
      "source": [
        "print('There are {} usere out of 12000 that have opted into receiving \\\n",
        "marketing emails'.format(users.opted_in_to_mailing_list.sum()))"
      ],
      "execution_count": 15,
      "outputs": [
        {
          "output_type": "stream",
          "text": [
            "There are 2994 usere out of 12000 that have opted into receiving marketing emails\n"
          ],
          "name": "stdout"
        }
      ]
    },
    {
      "cell_type": "code",
      "metadata": {
        "id": "85hASg_8JHWu",
        "colab_type": "code",
        "colab": {
          "base_uri": "https://localhost:8080/",
          "height": 609
        },
        "outputId": "075ad31e-0701-4c3e-8faf-3e1637a1c1a8"
      },
      "source": [
        "users[users.invited_by_user_id == users.object_id]"
      ],
      "execution_count": 16,
      "outputs": [
        {
          "output_type": "execute_result",
          "data": {
            "text/html": [
              "<div>\n",
              "<style scoped>\n",
              "    .dataframe tbody tr th:only-of-type {\n",
              "        vertical-align: middle;\n",
              "    }\n",
              "\n",
              "    .dataframe tbody tr th {\n",
              "        vertical-align: top;\n",
              "    }\n",
              "\n",
              "    .dataframe thead th {\n",
              "        text-align: right;\n",
              "    }\n",
              "</style>\n",
              "<table border=\"1\" class=\"dataframe\">\n",
              "  <thead>\n",
              "    <tr style=\"text-align: right;\">\n",
              "      <th></th>\n",
              "      <th>object_id</th>\n",
              "      <th>creation_time</th>\n",
              "      <th>name</th>\n",
              "      <th>email</th>\n",
              "      <th>creation_source</th>\n",
              "      <th>last_session_creation_time</th>\n",
              "      <th>opted_in_to_mailing_list</th>\n",
              "      <th>enabled_for_marketing_drip</th>\n",
              "      <th>org_id</th>\n",
              "      <th>invited_by_user_id</th>\n",
              "      <th>creation_year</th>\n",
              "      <th>creation_month</th>\n",
              "      <th>creation_day</th>\n",
              "      <th>creation_hour</th>\n",
              "    </tr>\n",
              "  </thead>\n",
              "  <tbody>\n",
              "    <tr>\n",
              "      <th>22</th>\n",
              "      <td>23</td>\n",
              "      <td>2012-08-17 08:30:27</td>\n",
              "      <td>Souza Alice</td>\n",
              "      <td>gustr</td>\n",
              "      <td>ORG_INVITE</td>\n",
              "      <td>1.345279e+09</td>\n",
              "      <td>1</td>\n",
              "      <td>0</td>\n",
              "      <td>6</td>\n",
              "      <td>23.0</td>\n",
              "      <td>2012</td>\n",
              "      <td>8</td>\n",
              "      <td>17</td>\n",
              "      <td>8</td>\n",
              "    </tr>\n",
              "    <tr>\n",
              "      <th>49</th>\n",
              "      <td>50</td>\n",
              "      <td>2012-06-03 11:02:08</td>\n",
              "      <td>Oliveira Gabrielly</td>\n",
              "      <td>gmail</td>\n",
              "      <td>GUEST_INVITE</td>\n",
              "      <td>1.350990e+09</td>\n",
              "      <td>0</td>\n",
              "      <td>0</td>\n",
              "      <td>61</td>\n",
              "      <td>50.0</td>\n",
              "      <td>2012</td>\n",
              "      <td>6</td>\n",
              "      <td>3</td>\n",
              "      <td>11</td>\n",
              "    </tr>\n",
              "    <tr>\n",
              "      <th>120</th>\n",
              "      <td>121</td>\n",
              "      <td>2013-01-03 23:57:39</td>\n",
              "      <td>Toft Dennis</td>\n",
              "      <td>cuvox</td>\n",
              "      <td>GUEST_INVITE</td>\n",
              "      <td>1.357257e+09</td>\n",
              "      <td>1</td>\n",
              "      <td>0</td>\n",
              "      <td>402</td>\n",
              "      <td>121.0</td>\n",
              "      <td>2013</td>\n",
              "      <td>1</td>\n",
              "      <td>3</td>\n",
              "      <td>23</td>\n",
              "    </tr>\n",
              "    <tr>\n",
              "      <th>177</th>\n",
              "      <td>178</td>\n",
              "      <td>2012-06-08 14:44:58</td>\n",
              "      <td>Brauer Daniela</td>\n",
              "      <td>gmail</td>\n",
              "      <td>ORG_INVITE</td>\n",
              "      <td>1.339167e+09</td>\n",
              "      <td>0</td>\n",
              "      <td>0</td>\n",
              "      <td>415</td>\n",
              "      <td>178.0</td>\n",
              "      <td>2012</td>\n",
              "      <td>6</td>\n",
              "      <td>8</td>\n",
              "      <td>14</td>\n",
              "    </tr>\n",
              "    <tr>\n",
              "      <th>192</th>\n",
              "      <td>193</td>\n",
              "      <td>2012-10-30 04:15:49</td>\n",
              "      <td>Rocha Erick</td>\n",
              "      <td>jourrapide</td>\n",
              "      <td>ORG_INVITE</td>\n",
              "      <td>1.351571e+09</td>\n",
              "      <td>1</td>\n",
              "      <td>0</td>\n",
              "      <td>122</td>\n",
              "      <td>193.0</td>\n",
              "      <td>2012</td>\n",
              "      <td>10</td>\n",
              "      <td>30</td>\n",
              "      <td>4</td>\n",
              "    </tr>\n",
              "    <tr>\n",
              "      <th>...</th>\n",
              "      <td>...</td>\n",
              "      <td>...</td>\n",
              "      <td>...</td>\n",
              "      <td>...</td>\n",
              "      <td>...</td>\n",
              "      <td>...</td>\n",
              "      <td>...</td>\n",
              "      <td>...</td>\n",
              "      <td>...</td>\n",
              "      <td>...</td>\n",
              "      <td>...</td>\n",
              "      <td>...</td>\n",
              "      <td>...</td>\n",
              "      <td>...</td>\n",
              "    </tr>\n",
              "    <tr>\n",
              "      <th>11767</th>\n",
              "      <td>11768</td>\n",
              "      <td>2012-10-10 12:02:31</td>\n",
              "      <td>White Robert</td>\n",
              "      <td>cuvox</td>\n",
              "      <td>ORG_INVITE</td>\n",
              "      <td>NaN</td>\n",
              "      <td>0</td>\n",
              "      <td>0</td>\n",
              "      <td>38</td>\n",
              "      <td>11768.0</td>\n",
              "      <td>2012</td>\n",
              "      <td>10</td>\n",
              "      <td>10</td>\n",
              "      <td>12</td>\n",
              "    </tr>\n",
              "    <tr>\n",
              "      <th>11773</th>\n",
              "      <td>11774</td>\n",
              "      <td>2012-07-10 10:01:09</td>\n",
              "      <td>Toft Louise</td>\n",
              "      <td>rimoj</td>\n",
              "      <td>ORG_INVITE</td>\n",
              "      <td>1.342346e+09</td>\n",
              "      <td>0</td>\n",
              "      <td>0</td>\n",
              "      <td>3</td>\n",
              "      <td>11774.0</td>\n",
              "      <td>2012</td>\n",
              "      <td>7</td>\n",
              "      <td>10</td>\n",
              "      <td>10</td>\n",
              "    </tr>\n",
              "    <tr>\n",
              "      <th>11794</th>\n",
              "      <td>11795</td>\n",
              "      <td>2012-10-25 14:15:03</td>\n",
              "      <td>König Frank</td>\n",
              "      <td>cuvox</td>\n",
              "      <td>ORG_INVITE</td>\n",
              "      <td>1.351175e+09</td>\n",
              "      <td>0</td>\n",
              "      <td>0</td>\n",
              "      <td>153</td>\n",
              "      <td>11795.0</td>\n",
              "      <td>2012</td>\n",
              "      <td>10</td>\n",
              "      <td>25</td>\n",
              "      <td>14</td>\n",
              "    </tr>\n",
              "    <tr>\n",
              "      <th>11803</th>\n",
              "      <td>11804</td>\n",
              "      <td>2012-06-18 09:20:44</td>\n",
              "      <td>Lund Jens</td>\n",
              "      <td>gmail</td>\n",
              "      <td>GUEST_INVITE</td>\n",
              "      <td>NaN</td>\n",
              "      <td>0</td>\n",
              "      <td>0</td>\n",
              "      <td>26</td>\n",
              "      <td>11804.0</td>\n",
              "      <td>2012</td>\n",
              "      <td>6</td>\n",
              "      <td>18</td>\n",
              "      <td>9</td>\n",
              "    </tr>\n",
              "    <tr>\n",
              "      <th>11855</th>\n",
              "      <td>11856</td>\n",
              "      <td>2012-11-26 21:50:11</td>\n",
              "      <td>Araujo Vinícius</td>\n",
              "      <td>jourrapide</td>\n",
              "      <td>ORG_INVITE</td>\n",
              "      <td>1.355954e+09</td>\n",
              "      <td>1</td>\n",
              "      <td>1</td>\n",
              "      <td>394</td>\n",
              "      <td>11856.0</td>\n",
              "      <td>2012</td>\n",
              "      <td>11</td>\n",
              "      <td>26</td>\n",
              "      <td>21</td>\n",
              "    </tr>\n",
              "  </tbody>\n",
              "</table>\n",
              "<p>222 rows × 14 columns</p>\n",
              "</div>"
            ],
            "text/plain": [
              "       object_id       creation_time  ... creation_day creation_hour\n",
              "22            23 2012-08-17 08:30:27  ...           17             8\n",
              "49            50 2012-06-03 11:02:08  ...            3            11\n",
              "120          121 2013-01-03 23:57:39  ...            3            23\n",
              "177          178 2012-06-08 14:44:58  ...            8            14\n",
              "192          193 2012-10-30 04:15:49  ...           30             4\n",
              "...          ...                 ...  ...          ...           ...\n",
              "11767      11768 2012-10-10 12:02:31  ...           10            12\n",
              "11773      11774 2012-07-10 10:01:09  ...           10            10\n",
              "11794      11795 2012-10-25 14:15:03  ...           25            14\n",
              "11803      11804 2012-06-18 09:20:44  ...           18             9\n",
              "11855      11856 2012-11-26 21:50:11  ...           26            21\n",
              "\n",
              "[222 rows x 14 columns]"
            ]
          },
          "metadata": {
            "tags": []
          },
          "execution_count": 16
        }
      ]
    },
    {
      "cell_type": "markdown",
      "metadata": {
        "id": "-bKugqw5JWij",
        "colab_type": "text"
      },
      "source": [
        "222 users are invited by themselves to join. This does not seem right."
      ]
    },
    {
      "cell_type": "code",
      "metadata": {
        "id": "DoafkP9W-swf",
        "colab_type": "code",
        "colab": {}
      },
      "source": [
        "last = users.copy().loc[~users.last_session_creation_time.isnull()]"
      ],
      "execution_count": 0,
      "outputs": []
    },
    {
      "cell_type": "code",
      "metadata": {
        "id": "D8k-EPr4_WT5",
        "colab_type": "code",
        "colab": {}
      },
      "source": [
        "last['creation'] = (pd.to_datetime(last.creation_time)- \n",
        "                    datetime(1970, 1, 1, 0, 0, 0)).dt.total_seconds()"
      ],
      "execution_count": 0,
      "outputs": []
    },
    {
      "cell_type": "code",
      "metadata": {
        "id": "DQ4Y_9J9Cvwq",
        "colab_type": "code",
        "colab": {
          "base_uri": "https://localhost:8080/",
          "height": 35
        },
        "outputId": "ddf63e08-6afb-45ba-ad75-ed360f7ea361"
      },
      "source": [
        "(last.creation == last.last_session_creation_time).sum()"
      ],
      "execution_count": 19,
      "outputs": [
        {
          "output_type": "execute_result",
          "data": {
            "text/plain": [
              "3027"
            ]
          },
          "metadata": {
            "tags": []
          },
          "execution_count": 19
        }
      ]
    },
    {
      "cell_type": "markdown",
      "metadata": {
        "id": "lrLarsHBX5Bw",
        "colab_type": "text"
      },
      "source": [
        "Missing values consist of  approximately 26% in `last_session_creation_time`. After selecting all 8823 rows with both `creation_time` and `last_session_creation_time` (as DataFrame`last`) and converting `creation_time` from `datetime` object to `int` as timestamp, there are 3027 rows that have the same `creation_time` and `last_session_creation_time`. Therefore, it is inappropriate to fill in the missing values of `last_session_creation_time` with `creation_time`."
      ]
    },
    {
      "cell_type": "code",
      "metadata": {
        "id": "7rPZdxuxGbVc",
        "colab_type": "code",
        "outputId": "11dce948-e280-45aa-f417-a880675336ab",
        "colab": {
          "base_uri": "https://localhost:8080/",
          "height": 202
        }
      },
      "source": [
        "engagement = pd.read_csv('takehome_user_engagement.csv', encoding=\"ISO-8859-1\",\n",
        "                         parse_dates=['time_stamp'])\n",
        "engagement.head()"
      ],
      "execution_count": 20,
      "outputs": [
        {
          "output_type": "execute_result",
          "data": {
            "text/html": [
              "<div>\n",
              "<style scoped>\n",
              "    .dataframe tbody tr th:only-of-type {\n",
              "        vertical-align: middle;\n",
              "    }\n",
              "\n",
              "    .dataframe tbody tr th {\n",
              "        vertical-align: top;\n",
              "    }\n",
              "\n",
              "    .dataframe thead th {\n",
              "        text-align: right;\n",
              "    }\n",
              "</style>\n",
              "<table border=\"1\" class=\"dataframe\">\n",
              "  <thead>\n",
              "    <tr style=\"text-align: right;\">\n",
              "      <th></th>\n",
              "      <th>time_stamp</th>\n",
              "      <th>user_id</th>\n",
              "      <th>visited</th>\n",
              "    </tr>\n",
              "  </thead>\n",
              "  <tbody>\n",
              "    <tr>\n",
              "      <th>0</th>\n",
              "      <td>2014-04-22 03:53:30</td>\n",
              "      <td>1</td>\n",
              "      <td>1</td>\n",
              "    </tr>\n",
              "    <tr>\n",
              "      <th>1</th>\n",
              "      <td>2013-11-15 03:45:04</td>\n",
              "      <td>2</td>\n",
              "      <td>1</td>\n",
              "    </tr>\n",
              "    <tr>\n",
              "      <th>2</th>\n",
              "      <td>2013-11-29 03:45:04</td>\n",
              "      <td>2</td>\n",
              "      <td>1</td>\n",
              "    </tr>\n",
              "    <tr>\n",
              "      <th>3</th>\n",
              "      <td>2013-12-09 03:45:04</td>\n",
              "      <td>2</td>\n",
              "      <td>1</td>\n",
              "    </tr>\n",
              "    <tr>\n",
              "      <th>4</th>\n",
              "      <td>2013-12-25 03:45:04</td>\n",
              "      <td>2</td>\n",
              "      <td>1</td>\n",
              "    </tr>\n",
              "  </tbody>\n",
              "</table>\n",
              "</div>"
            ],
            "text/plain": [
              "           time_stamp  user_id  visited\n",
              "0 2014-04-22 03:53:30        1        1\n",
              "1 2013-11-15 03:45:04        2        1\n",
              "2 2013-11-29 03:45:04        2        1\n",
              "3 2013-12-09 03:45:04        2        1\n",
              "4 2013-12-25 03:45:04        2        1"
            ]
          },
          "metadata": {
            "tags": []
          },
          "execution_count": 20
        }
      ]
    },
    {
      "cell_type": "code",
      "metadata": {
        "id": "a0tYyLA4Gdqt",
        "colab_type": "code",
        "outputId": "6fe092a4-8dd4-403f-831c-ba9445eb9027",
        "colab": {
          "base_uri": "https://localhost:8080/",
          "height": 52
        }
      },
      "source": [
        "engagement['time_stamp'] = engagement['time_stamp'].dt.date\n",
        "s = engagement.groupby(['user_id', 'time_stamp']).visited.count()\n",
        "s.value_counts()"
      ],
      "execution_count": 21,
      "outputs": [
        {
          "output_type": "execute_result",
          "data": {
            "text/plain": [
              "1    207917\n",
              "Name: visited, dtype: int64"
            ]
          },
          "metadata": {
            "tags": []
          },
          "execution_count": 21
        }
      ]
    },
    {
      "cell_type": "markdown",
      "metadata": {
        "id": "fZKc8B2FX1x0",
        "colab_type": "text"
      },
      "source": [
        "This shows that any user logs into the product at most once per day."
      ]
    },
    {
      "cell_type": "code",
      "metadata": {
        "id": "GGLYN6C7Z4jm",
        "colab_type": "code",
        "colab": {}
      },
      "source": [
        "engagement['time_stamp'] = pd.to_datetime(engagement.time_stamp)\n",
        "\n",
        "sort = engagement.set_index('time_stamp').groupby(\n",
        "    'user_id').resample('7d').visited.count()\n",
        "\n",
        "adopted_id = sort[sort >= 3].index.get_level_values(0).unique()"
      ],
      "execution_count": 0,
      "outputs": []
    },
    {
      "cell_type": "markdown",
      "metadata": {
        "id": "lteB8fls-nNS",
        "colab_type": "text"
      },
      "source": [
        "`Adopted_id` includes ids of all users  that have logged into the product on three separate days in at least 7-day period "
      ]
    },
    {
      "cell_type": "code",
      "metadata": {
        "id": "xOVv4n76KAKd",
        "colab_type": "code",
        "colab": {
          "base_uri": "https://localhost:8080/",
          "height": 35
        },
        "outputId": "713c7ae3-8d11-4031-c467-ac8283bdc1ac"
      },
      "source": [
        "print('There are {} users out of 12000 that are adopted users.'.format(\n",
        "    len(adopted_id)))"
      ],
      "execution_count": 23,
      "outputs": [
        {
          "output_type": "stream",
          "text": [
            "There are 1472 users out of 12000 that are adopted users.\n"
          ],
          "name": "stdout"
        }
      ]
    },
    {
      "cell_type": "markdown",
      "metadata": {
        "id": "KQQvQjx5KEjb",
        "colab_type": "text"
      },
      "source": [
        "Therefore, this data is imbalanced."
      ]
    },
    {
      "cell_type": "code",
      "metadata": {
        "id": "1cVULrWNbO35",
        "colab_type": "code",
        "colab": {}
      },
      "source": [
        "for row in users.itertuples():\n",
        "    if row.Index in adopted_id:\n",
        "        users.loc[row.Index, 'adopted'] = 1\n",
        "    else:\n",
        "        users.loc[row.Index, 'adopted'] = 0"
      ],
      "execution_count": 0,
      "outputs": []
    },
    {
      "cell_type": "markdown",
      "metadata": {
        "id": "sC9efVwU-8v2",
        "colab_type": "text"
      },
      "source": [
        "The target is added as `adopted`. If the id of a user is in `adopted_id`, then `adopted` is marked as 1, or it is marked as 0. "
      ]
    },
    {
      "cell_type": "code",
      "metadata": {
        "id": "rhvUWf7SQdxC",
        "colab_type": "code",
        "colab": {}
      },
      "source": [
        "missing = users.copy()[users.last_session_creation_time.isnull()]"
      ],
      "execution_count": 0,
      "outputs": []
    },
    {
      "cell_type": "code",
      "metadata": {
        "id": "iTIjdfHqL86I",
        "colab_type": "code",
        "colab": {
          "base_uri": "https://localhost:8080/",
          "height": 35
        },
        "outputId": "b1a129ab-dd76-40aa-9799-db706b439fc7"
      },
      "source": [
        "np.intersect1d(engagement.user_id.unique(), missing.object_id.unique())"
      ],
      "execution_count": 29,
      "outputs": [
        {
          "output_type": "execute_result",
          "data": {
            "text/plain": [
              "array([], dtype=int64)"
            ]
          },
          "metadata": {
            "tags": []
          },
          "execution_count": 29
        }
      ]
    },
    {
      "cell_type": "markdown",
      "metadata": {
        "id": "Dxkj1QHQTduu",
        "colab_type": "text"
      },
      "source": [
        "The data in the `engagement.csv` can't be used to fill the missing values of `last_session_creation_time` in `users.csv` as the accounts with missing information are not documented for engagement. Therefore, there is no proper way to fill in the missing values of `last_session_creation_time` and those rows with missing values are dropped. "
      ]
    },
    {
      "cell_type": "code",
      "metadata": {
        "id": "85rq6FtpMpwQ",
        "colab_type": "code",
        "colab": {}
      },
      "source": [
        "users = users.drop(users[users.last_session_creation_time.isnull()].index)"
      ],
      "execution_count": 0,
      "outputs": []
    },
    {
      "cell_type": "code",
      "metadata": {
        "id": "bWCDGE4MMv6t",
        "colab_type": "code",
        "colab": {
          "base_uri": "https://localhost:8080/",
          "height": 399
        },
        "outputId": "9e3df20d-7193-48f2-c917-6572d8c44738"
      },
      "source": [
        "users.info()"
      ],
      "execution_count": 31,
      "outputs": [
        {
          "output_type": "stream",
          "text": [
            "<class 'pandas.core.frame.DataFrame'>\n",
            "Int64Index: 8823 entries, 0 to 11999\n",
            "Data columns (total 15 columns):\n",
            " #   Column                      Non-Null Count  Dtype         \n",
            "---  ------                      --------------  -----         \n",
            " 0   object_id                   8823 non-null   int64         \n",
            " 1   creation_time               8823 non-null   datetime64[ns]\n",
            " 2   name                        8823 non-null   object        \n",
            " 3   email                       8823 non-null   category      \n",
            " 4   creation_source             8823 non-null   object        \n",
            " 5   last_session_creation_time  8823 non-null   float64       \n",
            " 6   opted_in_to_mailing_list    8823 non-null   int64         \n",
            " 7   enabled_for_marketing_drip  8823 non-null   int64         \n",
            " 8   org_id                      8823 non-null   int64         \n",
            " 9   invited_by_user_id          4776 non-null   float64       \n",
            " 10  creation_year               8823 non-null   int64         \n",
            " 11  creation_month              8823 non-null   int64         \n",
            " 12  creation_day                8823 non-null   int64         \n",
            " 13  creation_hour               8823 non-null   int64         \n",
            " 14  adopted                     8823 non-null   float64       \n",
            "dtypes: category(1), datetime64[ns](1), float64(3), int64(8), object(2)\n",
            "memory usage: 1.1+ MB\n"
          ],
          "name": "stdout"
        }
      ]
    },
    {
      "cell_type": "markdown",
      "metadata": {
        "id": "FgxuLeOFUrwi",
        "colab_type": "text"
      },
      "source": [
        "More than half of the `invited_by_user_id` values are missing, and some users are invited by themselves. This feature does not seem to be documented correctly and therefore will be dropped."
      ]
    },
    {
      "cell_type": "code",
      "metadata": {
        "id": "bakV0sXeVLgy",
        "colab_type": "code",
        "colab": {}
      },
      "source": [
        "users = users.drop('invited_by_user_id', axis=1)"
      ],
      "execution_count": 0,
      "outputs": []
    },
    {
      "cell_type": "code",
      "metadata": {
        "id": "nshgsD61M3Yq",
        "colab_type": "code",
        "colab": {
          "base_uri": "https://localhost:8080/",
          "height": 35
        },
        "outputId": "e72225e5-a76a-4cde-83f9-a5b067c8c763"
      },
      "source": [
        "users.adopted.sum()"
      ],
      "execution_count": 33,
      "outputs": [
        {
          "output_type": "execute_result",
          "data": {
            "text/plain": [
              "1064.0"
            ]
          },
          "metadata": {
            "tags": []
          },
          "execution_count": 33
        }
      ]
    },
    {
      "cell_type": "markdown",
      "metadata": {
        "id": "dJ5JO_pOV3_-",
        "colab_type": "text"
      },
      "source": [
        "After dropping the rows with missing values, the dataset is still imbalanced because 1064 out of 8823 accounts are adopted users."
      ]
    },
    {
      "cell_type": "code",
      "metadata": {
        "id": "uBtIzyIiWKAI",
        "colab_type": "code",
        "colab": {}
      },
      "source": [
        "users['last_session_creation_time'] = pd.to_datetime(users.last_session_creation_time,\n",
        "                                                     unit='s')"
      ],
      "execution_count": 0,
      "outputs": []
    },
    {
      "cell_type": "code",
      "metadata": {
        "id": "IJ_VvpRkcohZ",
        "colab_type": "code",
        "colab": {}
      },
      "source": [
        "users['duration'] = (users['last_session_creation_time'] - \n",
        "                     users['creation_time']).dt.days"
      ],
      "execution_count": 0,
      "outputs": []
    },
    {
      "cell_type": "markdown",
      "metadata": {
        "id": "44BITrs8_Yc-",
        "colab_type": "text"
      },
      "source": [
        "The time between signup date and the last login date is saved as a new feature `duration`"
      ]
    },
    {
      "cell_type": "code",
      "metadata": {
        "id": "BeLYXnfRWj6n",
        "colab_type": "code",
        "colab": {
          "base_uri": "https://localhost:8080/",
          "height": 399
        },
        "outputId": "832a6997-6239-4ec5-98e4-0f5b65bfccd2"
      },
      "source": [
        "users.info()"
      ],
      "execution_count": 36,
      "outputs": [
        {
          "output_type": "stream",
          "text": [
            "<class 'pandas.core.frame.DataFrame'>\n",
            "Int64Index: 8823 entries, 0 to 11999\n",
            "Data columns (total 15 columns):\n",
            " #   Column                      Non-Null Count  Dtype         \n",
            "---  ------                      --------------  -----         \n",
            " 0   object_id                   8823 non-null   int64         \n",
            " 1   creation_time               8823 non-null   datetime64[ns]\n",
            " 2   name                        8823 non-null   object        \n",
            " 3   email                       8823 non-null   category      \n",
            " 4   creation_source             8823 non-null   object        \n",
            " 5   last_session_creation_time  8823 non-null   datetime64[ns]\n",
            " 6   opted_in_to_mailing_list    8823 non-null   int64         \n",
            " 7   enabled_for_marketing_drip  8823 non-null   int64         \n",
            " 8   org_id                      8823 non-null   int64         \n",
            " 9   creation_year               8823 non-null   int64         \n",
            " 10  creation_month              8823 non-null   int64         \n",
            " 11  creation_day                8823 non-null   int64         \n",
            " 12  creation_hour               8823 non-null   int64         \n",
            " 13  adopted                     8823 non-null   float64       \n",
            " 14  duration                    8823 non-null   int64         \n",
            "dtypes: category(1), datetime64[ns](2), float64(1), int64(9), object(2)\n",
            "memory usage: 1.1+ MB\n"
          ],
          "name": "stdout"
        }
      ]
    },
    {
      "cell_type": "code",
      "metadata": {
        "id": "0FcsH0Cj6W3c",
        "colab_type": "code",
        "colab": {}
      },
      "source": [
        "users.drop(['name', 'object_id', 'creation_time', 'last_session_creation_time'],\n",
        "           axis=1, inplace=True)"
      ],
      "execution_count": 0,
      "outputs": []
    },
    {
      "cell_type": "code",
      "metadata": {
        "id": "cuR1pC3TfzWy",
        "colab_type": "code",
        "colab": {}
      },
      "source": [
        "y = users['adopted'].astype(int)\n",
        "X = users.drop(['adopted'], axis=1)"
      ],
      "execution_count": 0,
      "outputs": []
    },
    {
      "cell_type": "code",
      "metadata": {
        "id": "YOc5y5OYgNKd",
        "colab_type": "code",
        "colab": {}
      },
      "source": [
        "from sklearn.model_selection import train_test_split\n",
        "from sklearn.metrics import classification_report, roc_auc_score, confusion_matrix\n",
        "from sklearn.preprocessing import LabelEncoder"
      ],
      "execution_count": 0,
      "outputs": []
    },
    {
      "cell_type": "code",
      "metadata": {
        "id": "InRbCXTjcrNm",
        "colab_type": "code",
        "colab": {}
      },
      "source": [
        "le = LabelEncoder()\n",
        "X = X.apply(le.fit_transform)"
      ],
      "execution_count": 0,
      "outputs": []
    },
    {
      "cell_type": "code",
      "metadata": {
        "id": "DTFstyBGh2rE",
        "colab_type": "code",
        "colab": {}
      },
      "source": [
        "Xtrain, Xtest, ytrain, ytest = train_test_split(X, y, test_size = 0.25,\n",
        "                                                random_state=7)"
      ],
      "execution_count": 0,
      "outputs": []
    },
    {
      "cell_type": "code",
      "metadata": {
        "id": "N83l03McgdUB",
        "colab_type": "code",
        "outputId": "2a779ea0-1451-41f8-e45d-1de27be52fba",
        "colab": {
          "base_uri": "https://localhost:8080/",
          "height": 69
        }
      },
      "source": [
        "from sklearn.neighbors import KNeighborsClassifier\n",
        "knn = KNeighborsClassifier()\n",
        "knn.fit(Xtrain, ytrain)"
      ],
      "execution_count": 51,
      "outputs": [
        {
          "output_type": "execute_result",
          "data": {
            "text/plain": [
              "KNeighborsClassifier(algorithm='auto', leaf_size=30, metric='minkowski',\n",
              "                     metric_params=None, n_jobs=None, n_neighbors=5, p=2,\n",
              "                     weights='uniform')"
            ]
          },
          "metadata": {
            "tags": []
          },
          "execution_count": 51
        }
      ]
    },
    {
      "cell_type": "markdown",
      "metadata": {
        "id": "n4huUVfoAr-y",
        "colab_type": "text"
      },
      "source": [
        "K nearest neighbor is used as a benchmark model."
      ]
    },
    {
      "cell_type": "code",
      "metadata": {
        "id": "ZX-iozPqiDZn",
        "colab_type": "code",
        "colab": {}
      },
      "source": [
        "ypred = knn.predict(Xtest)"
      ],
      "execution_count": 0,
      "outputs": []
    },
    {
      "cell_type": "code",
      "metadata": {
        "id": "0BjTGV4RiXIt",
        "colab_type": "code",
        "outputId": "b4897165-7492-42b5-acda-f887e8ed5fb0",
        "colab": {
          "base_uri": "https://localhost:8080/",
          "height": 173
        }
      },
      "source": [
        "print(classification_report(ypred, ytest))"
      ],
      "execution_count": 53,
      "outputs": [
        {
          "output_type": "stream",
          "text": [
            "              precision    recall  f1-score   support\n",
            "\n",
            "           0       0.99      0.88      0.93      2175\n",
            "           1       0.02      0.16      0.03        31\n",
            "\n",
            "    accuracy                           0.87      2206\n",
            "   macro avg       0.50      0.52      0.48      2206\n",
            "weighted avg       0.97      0.87      0.92      2206\n",
            "\n"
          ],
          "name": "stdout"
        }
      ]
    },
    {
      "cell_type": "code",
      "metadata": {
        "id": "ZuoxyLcmixBj",
        "colab_type": "code",
        "colab": {
          "base_uri": "https://localhost:8080/",
          "height": 35
        },
        "outputId": "6de63740-d803-4e27-eb3e-9607935807c1"
      },
      "source": [
        "print(roc_auc_score(ypred, ytest))"
      ],
      "execution_count": 54,
      "outputs": [
        {
          "output_type": "stream",
          "text": [
            "0.5222543566926214\n"
          ],
          "name": "stdout"
        }
      ]
    },
    {
      "cell_type": "markdown",
      "metadata": {
        "id": "5NVwqunSi5to",
        "colab_type": "text"
      },
      "source": [
        "We can see that the model does not do a good job predicting adopted users."
      ]
    },
    {
      "cell_type": "code",
      "metadata": {
        "id": "0UCb22FQh3dJ",
        "colab_type": "code",
        "colab": {
          "base_uri": "https://localhost:8080/",
          "height": 141
        },
        "outputId": "03d680bd-9fad-4f8e-9ee5-18db42328c1a"
      },
      "source": [
        "from imblearn.over_sampling import RandomOverSampler\n",
        "ros = RandomOverSampler(random_state=0)\n",
        "X_resampled, y_resampled = ros.fit_resample(X, y)"
      ],
      "execution_count": 46,
      "outputs": [
        {
          "output_type": "stream",
          "text": [
            "/usr/local/lib/python3.6/dist-packages/sklearn/externals/six.py:31: FutureWarning: The module is deprecated in version 0.21 and will be removed in version 0.23 since we've dropped support for Python 2.7. Please rely on the official version of six (https://pypi.org/project/six/).\n",
            "  \"(https://pypi.org/project/six/).\", FutureWarning)\n",
            "/usr/local/lib/python3.6/dist-packages/sklearn/utils/deprecation.py:144: FutureWarning: The sklearn.neighbors.base module is  deprecated in version 0.22 and will be removed in version 0.24. The corresponding classes / functions should instead be imported from sklearn.neighbors. Anything that cannot be imported from sklearn.neighbors is now part of the private API.\n",
            "  warnings.warn(message, FutureWarning)\n",
            "/usr/local/lib/python3.6/dist-packages/sklearn/utils/deprecation.py:87: FutureWarning: Function safe_indexing is deprecated; safe_indexing is deprecated in version 0.22 and will be removed in version 0.24.\n",
            "  warnings.warn(msg, category=FutureWarning)\n"
          ],
          "name": "stderr"
        }
      ]
    },
    {
      "cell_type": "markdown",
      "metadata": {
        "id": "6gEHTaASy8Xn",
        "colab_type": "text"
      },
      "source": [
        "The oversampling can be fixed by generating new samples in the non-adopted user class by randomly sampling with replacement."
      ]
    },
    {
      "cell_type": "code",
      "metadata": {
        "id": "l_Ysx1SgiIOA",
        "colab_type": "code",
        "colab": {}
      },
      "source": [
        "Xtrain_re, Xtest_re, ytrain_re, ytest_re = train_test_split(X_resampled, \n",
        "                                                            y_resampled,\n",
        "                                                            test_size = 0.25,\n",
        "                                                            random_state=7)"
      ],
      "execution_count": 0,
      "outputs": []
    },
    {
      "cell_type": "code",
      "metadata": {
        "id": "M4oJC3mNypWb",
        "colab_type": "code",
        "colab": {
          "base_uri": "https://localhost:8080/",
          "height": 69
        },
        "outputId": "550257c1-253b-4fc1-d6db-c1bd6a672fba"
      },
      "source": [
        "knn.fit(Xtrain_re, ytrain_re)"
      ],
      "execution_count": 48,
      "outputs": [
        {
          "output_type": "execute_result",
          "data": {
            "text/plain": [
              "KNeighborsClassifier(algorithm='auto', leaf_size=30, metric='minkowski',\n",
              "                     metric_params=None, n_jobs=None, n_neighbors=5, p=2,\n",
              "                     weights='uniform')"
            ]
          },
          "metadata": {
            "tags": []
          },
          "execution_count": 48
        }
      ]
    },
    {
      "cell_type": "code",
      "metadata": {
        "id": "61d4TZuLyuJI",
        "colab_type": "code",
        "colab": {}
      },
      "source": [
        "ypred_re = knn.predict(Xtest_re)"
      ],
      "execution_count": 0,
      "outputs": []
    },
    {
      "cell_type": "code",
      "metadata": {
        "id": "Lm1dFXDZiMs5",
        "colab_type": "code",
        "colab": {
          "base_uri": "https://localhost:8080/",
          "height": 173
        },
        "outputId": "867ef038-1bf5-4120-aa72-fc5b0393272b"
      },
      "source": [
        "print(classification_report(ypred_re, ytest_re))"
      ],
      "execution_count": 50,
      "outputs": [
        {
          "output_type": "stream",
          "text": [
            "              precision    recall  f1-score   support\n",
            "\n",
            "           0       0.63      0.91      0.75      1337\n",
            "           1       0.94      0.72      0.82      2543\n",
            "\n",
            "    accuracy                           0.79      3880\n",
            "   macro avg       0.78      0.82      0.78      3880\n",
            "weighted avg       0.83      0.79      0.79      3880\n",
            "\n"
          ],
          "name": "stdout"
        }
      ]
    },
    {
      "cell_type": "code",
      "metadata": {
        "id": "R5Jc6i9Wy3HB",
        "colab_type": "code",
        "colab": {
          "base_uri": "https://localhost:8080/",
          "height": 35
        },
        "outputId": "2c11dd80-336f-4a5a-c64e-bfea20aa9d08"
      },
      "source": [
        "print(roc_auc_score(ypred_re, ytest_re))"
      ],
      "execution_count": 56,
      "outputs": [
        {
          "output_type": "stream",
          "text": [
            "0.81522759913188\n"
          ],
          "name": "stdout"
        }
      ]
    },
    {
      "cell_type": "markdown",
      "metadata": {
        "id": "DzVOJ2vOzHRc",
        "colab_type": "text"
      },
      "source": [
        "After more samples are generated for non-adopted user class, the knn model is more accurate. "
      ]
    },
    {
      "cell_type": "code",
      "metadata": {
        "id": "mmY4vwZfzxnh",
        "colab_type": "code",
        "colab": {
          "base_uri": "https://localhost:8080/",
          "height": 121
        },
        "outputId": "beb920f4-1f63-4131-dc1d-b74ac0f2c3af"
      },
      "source": [
        "from sklearn.tree import DecisionTreeClassifier\n",
        "clf = DecisionTreeClassifier(random_state=0)\n",
        "clf.fit(Xtrain_re, ytrain_re)"
      ],
      "execution_count": 57,
      "outputs": [
        {
          "output_type": "execute_result",
          "data": {
            "text/plain": [
              "DecisionTreeClassifier(ccp_alpha=0.0, class_weight=None, criterion='gini',\n",
              "                       max_depth=None, max_features=None, max_leaf_nodes=None,\n",
              "                       min_impurity_decrease=0.0, min_impurity_split=None,\n",
              "                       min_samples_leaf=1, min_samples_split=2,\n",
              "                       min_weight_fraction_leaf=0.0, presort='deprecated',\n",
              "                       random_state=0, splitter='best')"
            ]
          },
          "metadata": {
            "tags": []
          },
          "execution_count": 57
        }
      ]
    },
    {
      "cell_type": "code",
      "metadata": {
        "id": "NCjtKxDC0Pso",
        "colab_type": "code",
        "colab": {}
      },
      "source": [
        "ypred_re = clf.predict(Xtest_re)"
      ],
      "execution_count": 0,
      "outputs": []
    },
    {
      "cell_type": "code",
      "metadata": {
        "id": "zQi_9cIO0dqI",
        "colab_type": "code",
        "colab": {
          "base_uri": "https://localhost:8080/",
          "height": 173
        },
        "outputId": "8cd0d756-7209-48c1-f163-03a41f29c7d8"
      },
      "source": [
        "print(classification_report(ypred_re, ytest_re))"
      ],
      "execution_count": 59,
      "outputs": [
        {
          "output_type": "stream",
          "text": [
            "              precision    recall  f1-score   support\n",
            "\n",
            "           0       0.84      1.00      0.91      1607\n",
            "           1       1.00      0.86      0.93      2273\n",
            "\n",
            "    accuracy                           0.92      3880\n",
            "   macro avg       0.92      0.93      0.92      3880\n",
            "weighted avg       0.93      0.92      0.92      3880\n",
            "\n"
          ],
          "name": "stdout"
        }
      ]
    },
    {
      "cell_type": "code",
      "metadata": {
        "id": "Jx4C9j6n0hbx",
        "colab_type": "code",
        "colab": {
          "base_uri": "https://localhost:8080/",
          "height": 35
        },
        "outputId": "c92f5d39-eb2b-4bea-af64-df9bb926f900"
      },
      "source": [
        "print(roc_auc_score(ypred_re, ytest_re))"
      ],
      "execution_count": 60,
      "outputs": [
        {
          "output_type": "stream",
          "text": [
            "0.9314058790854245\n"
          ],
          "name": "stdout"
        }
      ]
    },
    {
      "cell_type": "markdown",
      "metadata": {
        "id": "GyPbC7BA0kUk",
        "colab_type": "text"
      },
      "source": [
        "The decision tree model is doing a better job."
      ]
    },
    {
      "cell_type": "code",
      "metadata": {
        "id": "oOXYipbE1jE1",
        "colab_type": "code",
        "colab": {}
      },
      "source": [
        "result = pd.DataFrame(clf.tree_.compute_feature_importances(), index=X.columns,\n",
        "                      columns=['feature_importance']).sort_values('feature_importance')"
      ],
      "execution_count": 0,
      "outputs": []
    },
    {
      "cell_type": "code",
      "metadata": {
        "id": "hrYFmH6pjWIr",
        "colab_type": "code",
        "outputId": "8888af24-6d4e-47ac-b7b7-03043e239d63",
        "colab": {
          "base_uri": "https://localhost:8080/",
          "height": 297
        }
      },
      "source": [
        "plt.figure(figsize=(20, 6))\n",
        "plt.bar(result.index, result.feature_importance)\n",
        "plt.xticks(rotation=60)\n",
        "plt.ylabel('feature importance')\n",
        "plt.show()"
      ],
      "execution_count": 62,
      "outputs": [
        {
          "output_type": "display_data",
          "data": {
            "image/png": "[encoded data removed]",
            "text/plain": [
              "<Figure size 1440x432 with 1 Axes>"
            ]
          },
          "metadata": {
            "tags": [],
            "needs_background": "light"
          }
        }
      ]
    },
    {
      "cell_type": "markdown",
      "metadata": {
        "id": "5EZAyqKVkNJl",
        "colab_type": "text"
      },
      "source": [
        "The organization that an user belongs to greatly affects wheather this user is `adopted` or not. Surprisingly whether users opt into receiving marketing email or are on the regular email drip does not directly relate to whether they are adopted users. \n",
        "<br>\n",
        "<br>\n",
        "It would be helpful to fix the data by finding out what happens to the users whose last logins were missing and why the `invited_by_user_id` is missing for 50% users. And it would be very helpful to collect data on those who are not adopted users to avoid imbalanced datasets. Hyperparameter tuning is necessary to improve models too.\n",
        "\n"
      ]
    },
    {
      "cell_type": "code",
      "metadata": {
        "id": "JyDIwQ9x2_4P",
        "colab_type": "code",
        "colab": {
          "base_uri": "https://localhost:8080/",
          "height": 156
        },
        "outputId": "066a0752-7b3f-402b-a4df-8d9d891de16b"
      },
      "source": [
        "from sklearn.ensemble import RandomForestClassifier\n",
        "cl = RandomForestClassifier()\n",
        "cl.fit(Xtrain_re, ytrain_re)"
      ],
      "execution_count": 63,
      "outputs": [
        {
          "output_type": "execute_result",
          "data": {
            "text/plain": [
              "RandomForestClassifier(bootstrap=True, ccp_alpha=0.0, class_weight=None,\n",
              "                       criterion='gini', max_depth=None, max_features='auto',\n",
              "                       max_leaf_nodes=None, max_samples=None,\n",
              "                       min_impurity_decrease=0.0, min_impurity_split=None,\n",
              "                       min_samples_leaf=1, min_samples_split=2,\n",
              "                       min_weight_fraction_leaf=0.0, n_estimators=100,\n",
              "                       n_jobs=None, oob_score=False, random_state=None,\n",
              "                       verbose=0, warm_start=False)"
            ]
          },
          "metadata": {
            "tags": []
          },
          "execution_count": 63
        }
      ]
    },
    {
      "cell_type": "code",
      "metadata": {
        "id": "y9n5vhUE4STd",
        "colab_type": "code",
        "colab": {}
      },
      "source": [
        "ypred_re = cl.predict(Xtest_re)"
      ],
      "execution_count": 0,
      "outputs": []
    },
    {
      "cell_type": "code",
      "metadata": {
        "id": "2T6ut8HN4hm6",
        "colab_type": "code",
        "colab": {
          "base_uri": "https://localhost:8080/",
          "height": 173
        },
        "outputId": "be81b3d4-0dd1-4c26-8a04-49d85d39c1b7"
      },
      "source": [
        "print(classification_report(ypred_re, ytest_re))"
      ],
      "execution_count": 65,
      "outputs": [
        {
          "output_type": "stream",
          "text": [
            "              precision    recall  f1-score   support\n",
            "\n",
            "           0       0.99      1.00      0.99      1896\n",
            "           1       1.00      0.99      0.99      1984\n",
            "\n",
            "    accuracy                           0.99      3880\n",
            "   macro avg       0.99      0.99      0.99      3880\n",
            "weighted avg       0.99      0.99      0.99      3880\n",
            "\n"
          ],
          "name": "stdout"
        }
      ]
    },
    {
      "cell_type": "markdown",
      "metadata": {
        "id": "KjwxQsj94zgb",
        "colab_type": "text"
      },
      "source": [
        "The random forest model does a very good job predicting both classes."
      ]
    },
    {
      "cell_type": "code",
      "metadata": {
        "id": "TLpZh2-cjIfh",
        "colab_type": "code",
        "colab": {}
      },
      "source": [
        "importance = pd.DataFrame(cl.feature_importances_, index=X.columns, \n",
        "             columns=['feature_importance']).sort_values('feature_importance')"
      ],
      "execution_count": 0,
      "outputs": []
    },
    {
      "cell_type": "code",
      "metadata": {
        "id": "_oIrJvXI4xFf",
        "colab_type": "code",
        "colab": {
          "base_uri": "https://localhost:8080/",
          "height": 297
        },
        "outputId": "fdf4ee38-557e-44db-f35c-4e9f12da2383"
      },
      "source": [
        "plt.figure(figsize=(20, 6))\n",
        "plt.bar(importance.index, importance.feature_importance)\n",
        "plt.xticks(rotation=60)\n",
        "plt.ylabel('feature importance')\n",
        "plt.show()"
      ],
      "execution_count": 67,
      "outputs": [
        {
          "output_type": "display_data",
          "data": {
            "image/png": "[encoded data removed]",
            "text/plain": [
              "<Figure size 1440x432 with 1 Axes>"
            ]
          },
          "metadata": {
            "tags": [],
            "needs_background": "light"
          }
        }
      ]
    },
    {
      "cell_type": "code",
      "metadata": {
        "id": "tpBxVLdQ5YXB",
        "colab_type": "code",
        "colab": {}
      },
      "source": [
        ""
      ],
      "execution_count": 0,
      "outputs": []
    }
  ]
}